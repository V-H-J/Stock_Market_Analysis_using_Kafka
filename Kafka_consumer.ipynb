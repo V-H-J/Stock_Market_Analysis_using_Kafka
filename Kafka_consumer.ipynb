{
 "cells": [
  {
   "cell_type": "code",
   "execution_count": 1,
   "id": "0003ea26",
   "metadata": {},
   "outputs": [
    {
     "name": "stdout",
     "output_type": "stream",
     "text": [
      "Defaulting to user installation because normal site-packages is not writeable\n",
      "Requirement already satisfied: kafka-python in c:\\users\\hvanka\\appdata\\roaming\\python\\python39\\site-packages (2.0.2)\n",
      "Note: you may need to restart the kernel to use updated packages.\n"
     ]
    }
   ],
   "source": [
    "pip install kafka-python"
   ]
  },
  {
   "cell_type": "code",
   "execution_count": 2,
   "id": "d6813923",
   "metadata": {},
   "outputs": [
    {
     "name": "stdout",
     "output_type": "stream",
     "text": [
      "Defaulting to user installation because normal site-packages is not writeable\n",
      "Requirement already satisfied: confluent-kafka in c:\\users\\hvanka\\appdata\\roaming\\python\\python39\\site-packages (2.0.2)\n",
      "Note: you may need to restart the kernel to use updated packages.\n"
     ]
    }
   ],
   "source": [
    "pip install confluent-kafka"
   ]
  },
  {
   "cell_type": "code",
   "execution_count": 1,
   "id": "8994250e",
   "metadata": {},
   "outputs": [
    {
     "name": "stdout",
     "output_type": "stream",
     "text": [
      "Defaulting to user installation because normal site-packages is not writeable\n",
      "Requirement already satisfied: s3fs in c:\\users\\hvanka\\appdata\\roaming\\python\\python39\\site-packages (2023.1.0)\n",
      "Requirement already satisfied: aiohttp!=4.0.0a0,!=4.0.0a1 in c:\\programdata\\anaconda3\\lib\\site-packages (from s3fs) (3.8.1)\n",
      "Requirement already satisfied: aiobotocore~=2.4.2 in c:\\users\\hvanka\\appdata\\roaming\\python\\python39\\site-packages (from s3fs) (2.4.2)\n",
      "Requirement already satisfied: fsspec==2023.1.0 in c:\\users\\hvanka\\appdata\\roaming\\python\\python39\\site-packages (from s3fs) (2023.1.0)\n",
      "Requirement already satisfied: botocore<1.27.60,>=1.27.59 in c:\\users\\hvanka\\appdata\\roaming\\python\\python39\\site-packages (from aiobotocore~=2.4.2->s3fs) (1.27.59)\n",
      "Requirement already satisfied: aioitertools>=0.5.1 in c:\\users\\hvanka\\appdata\\roaming\\python\\python39\\site-packages (from aiobotocore~=2.4.2->s3fs) (0.11.0)\n",
      "Requirement already satisfied: wrapt>=1.10.10 in c:\\programdata\\anaconda3\\lib\\site-packages (from aiobotocore~=2.4.2->s3fs) (1.12.1)\n",
      "Requirement already satisfied: attrs>=17.3.0 in c:\\programdata\\anaconda3\\lib\\site-packages (from aiohttp!=4.0.0a0,!=4.0.0a1->s3fs) (21.4.0)\n",
      "Requirement already satisfied: charset-normalizer<3.0,>=2.0 in c:\\programdata\\anaconda3\\lib\\site-packages (from aiohttp!=4.0.0a0,!=4.0.0a1->s3fs) (2.0.4)\n",
      "Requirement already satisfied: async-timeout<5.0,>=4.0.0a3 in c:\\programdata\\anaconda3\\lib\\site-packages (from aiohttp!=4.0.0a0,!=4.0.0a1->s3fs) (4.0.1)\n",
      "Requirement already satisfied: frozenlist>=1.1.1 in c:\\programdata\\anaconda3\\lib\\site-packages (from aiohttp!=4.0.0a0,!=4.0.0a1->s3fs) (1.2.0)\n",
      "Requirement already satisfied: multidict<7.0,>=4.5 in c:\\programdata\\anaconda3\\lib\\site-packages (from aiohttp!=4.0.0a0,!=4.0.0a1->s3fs) (5.1.0)\n",
      "Requirement already satisfied: aiosignal>=1.1.2 in c:\\programdata\\anaconda3\\lib\\site-packages (from aiohttp!=4.0.0a0,!=4.0.0a1->s3fs) (1.2.0)\n",
      "Requirement already satisfied: yarl<2.0,>=1.0 in c:\\programdata\\anaconda3\\lib\\site-packages (from aiohttp!=4.0.0a0,!=4.0.0a1->s3fs) (1.6.3)\n",
      "Requirement already satisfied: typing_extensions>=4.0 in c:\\programdata\\anaconda3\\lib\\site-packages (from aioitertools>=0.5.1->aiobotocore~=2.4.2->s3fs) (4.1.1)\n",
      "Requirement already satisfied: urllib3<1.27,>=1.25.4 in c:\\programdata\\anaconda3\\lib\\site-packages (from botocore<1.27.60,>=1.27.59->aiobotocore~=2.4.2->s3fs) (1.26.9)\n",
      "Requirement already satisfied: python-dateutil<3.0.0,>=2.1 in c:\\programdata\\anaconda3\\lib\\site-packages (from botocore<1.27.60,>=1.27.59->aiobotocore~=2.4.2->s3fs) (2.8.2)\n",
      "Requirement already satisfied: jmespath<2.0.0,>=0.7.1 in c:\\programdata\\anaconda3\\lib\\site-packages (from botocore<1.27.60,>=1.27.59->aiobotocore~=2.4.2->s3fs) (0.10.0)\n",
      "Requirement already satisfied: six>=1.5 in c:\\programdata\\anaconda3\\lib\\site-packages (from python-dateutil<3.0.0,>=2.1->botocore<1.27.60,>=1.27.59->aiobotocore~=2.4.2->s3fs) (1.16.0)\n",
      "Requirement already satisfied: idna>=2.0 in c:\\programdata\\anaconda3\\lib\\site-packages (from yarl<2.0,>=1.0->aiohttp!=4.0.0a0,!=4.0.0a1->s3fs) (3.3)\n",
      "Note: you may need to restart the kernel to use updated packages.\n"
     ]
    }
   ],
   "source": [
    "pip install s3fs"
   ]
  },
  {
   "cell_type": "code",
   "execution_count": 2,
   "id": "ca243f50",
   "metadata": {},
   "outputs": [],
   "source": [
    "from kafka import KafkaConsumer\n",
    "from time import sleep\n",
    "from json import dumps,loads\n",
    "import json\n",
    "from s3fs import S3FileSystem\n",
    "import s3fs"
   ]
  },
  {
   "cell_type": "code",
   "execution_count": 3,
   "id": "4e5b276f",
   "metadata": {},
   "outputs": [],
   "source": [
    "consumer = KafkaConsumer(\n",
    "    'demo_testing3',\n",
    "     bootstrap_servers=['18.222.144.249:9092'], #add your IP here\n",
    "    value_deserializer=lambda x: loads(x.decode('utf-8')))"
   ]
  },
  {
   "cell_type": "code",
   "execution_count": 4,
   "id": "5451c39d",
   "metadata": {},
   "outputs": [],
   "source": [
    "# for c in consumer:\n",
    "#     print(c.value)\n",
    "# consumer.flush()"
   ]
  },
  {
   "cell_type": "code",
   "execution_count": 5,
   "id": "56f14d5b",
   "metadata": {},
   "outputs": [],
   "source": [
    "s3 = S3FileSystem()\n",
    "# s3 = s3fs.S3FileSystem(anon=False)"
   ]
  },
  {
   "cell_type": "code",
   "execution_count": 9,
   "id": "c5cc0721",
   "metadata": {},
   "outputs": [],
   "source": [
    "# for count, i in enumerate(consumer):\n",
    "#     with s3.open(\"s3://kafka-stock-market-vhj/VHJ_stock_market_{}.json\".format(count), 'w') as file:\n",
    "#         json.dump(i.value, file)   "
   ]
  },
  {
   "cell_type": "code",
   "execution_count": null,
   "id": "9e8e63b7",
   "metadata": {},
   "outputs": [],
   "source": []
  }
 ],
 "metadata": {
  "kernelspec": {
   "display_name": "Python 3 (ipykernel)",
   "language": "python",
   "name": "python3"
  },
  "language_info": {
   "codemirror_mode": {
    "name": "ipython",
    "version": 3
   },
   "file_extension": ".py",
   "mimetype": "text/x-python",
   "name": "python",
   "nbconvert_exporter": "python",
   "pygments_lexer": "ipython3",
   "version": "3.9.12"
  }
 },
 "nbformat": 4,
 "nbformat_minor": 5
}
